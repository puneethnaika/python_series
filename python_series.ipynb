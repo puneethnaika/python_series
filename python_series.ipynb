{
 "cells": [
  {
   "cell_type": "markdown",
   "id": "e25abab5",
   "metadata": {},
   "source": [
    "# AGE DAYS WEEK MONTS CALCULATOR\n"
   ]
  },
  {
   "cell_type": "code",
   "execution_count": null,
   "id": "b2165cae",
   "metadata": {},
   "outputs": [],
   "source": [
    "age=int(input(\"What is your age: \"))\n",
    "life=90\n",
    "timeLeft=life-age\n",
    "daysCount=timeLeft*365\n",
    "weeksCount=timeLeft*52\n",
    "monthsCount=timeLeft*12\n",
    "print(f\"You have days {daysCount} weeks {weeksCount} monts {monthsCount}\")"
   ]
  },
  {
   "cell_type": "markdown",
   "id": "162e041f",
   "metadata": {},
   "source": [
    "# if else for hieght of person\n",
    "\n"
   ]
  },
  {
   "cell_type": "code",
   "execution_count": null,
   "id": "5a2c2c8c",
   "metadata": {},
   "outputs": [],
   "source": [
    "heightInCm=int(input(\"Enter your Hieght in cm: \"))\n",
    "heightInfeet= heightInCm/30.48\n",
    "\n",
    "\n",
    "\n",
    "if heightInfeet>3:\n",
    "    print(f\"Your Hieght is {heightInfeet}, so Please Take ticket of rupees $20\")\n",
    "    \n",
    "else:\n",
    "    print(f\"Your Hieght is {heightInfeet}, so Please Take ticket of rupees $10\")\n"
   ]
  },
  {
   "cell_type": "markdown",
   "id": "780f2936",
   "metadata": {},
   "source": [
    "# if else for odd or even number"
   ]
  },
  {
   "cell_type": "code",
   "execution_count": null,
   "id": "b2641ac1",
   "metadata": {},
   "outputs": [],
   "source": [
    "n=int(input(\"Enter a Whole number of your choice: \"))\n",
    "\n",
    "if (n%2==0):\n",
    "    print(f\"The enterd number {n} is Even Number\")\n",
    "else:\n",
    "    print(f\"The enterd number {n} is odd number\")"
   ]
  },
  {
   "cell_type": "markdown",
   "id": "ce32d87b",
   "metadata": {},
   "source": [
    "# if-else construct\n"
   ]
  },
  {
   "cell_type": "code",
   "execution_count": null,
   "id": "01f25e3a",
   "metadata": {},
   "outputs": [],
   "source": [
    "age=int(input(\"Enter your age: \"))\n",
    "height=float(input(\"Enter your height: \"))\n",
    "\n",
    "if (height>5.0):\n",
    "    print(\"you Can enter the Amusement park\")\n",
    "    if (age<=12):\n",
    "        print(\"Pay $150\")\n",
    "    elif (age<=18):\n",
    "        print(\"Pay $250\")\n",
    "    else:\n",
    "        print(\"Pay $350\")\n",
    "else:\n",
    "    print(\"You can't enter the Amusement park\")\n",
    "    \n",
    "print(\"Thank You\")\n",
    "    "
   ]
  },
  {
   "cell_type": "markdown",
   "id": "dfce4132",
   "metadata": {},
   "source": [
    "# Round Function "
   ]
  },
  {
   "cell_type": "code",
   "execution_count": null,
   "id": "de09e339",
   "metadata": {},
   "outputs": [],
   "source": [
    "a=int(input(\"Enter a number of your Choice: \"))\n",
    "a=round(a, -1)\n",
    "print(a)"
   ]
  },
  {
   "cell_type": "markdown",
   "id": "4e543c52",
   "metadata": {},
   "source": [
    "# BMI calculator\n"
   ]
  },
  {
   "cell_type": "code",
   "execution_count": 2,
   "id": "6ae8c47f",
   "metadata": {},
   "outputs": [
    {
     "name": "stdout",
     "output_type": "stream",
     "text": [
      "Enter a Number 1 for cm else 2 for Meters: 2\n",
      "Enter your height1.71\n",
      "Enter your Weight57\n",
      "Your BMI is:  19.493\n"
     ]
    }
   ],
   "source": [
    "n=int(input(\"Enter a Number 1 for cm else 2 for Meters: \" ))\n",
    "height=float(input(\"Enter your height\"))\n",
    "weight=float(input(\"Enter your Weight\"))\n",
    "if n==1:\n",
    "           height=round (height/100, 2)\n",
    "           bmi=round(weight/height**2, 3)\n",
    "           print(\"Your BMI is: \", bmi)\n",
    "elif n==2:\n",
    "           bmi=round(weight/height**2, 3)\n",
    "           print(\"Your BMI is: \", bmi)\n",
    "else:\n",
    "           print(\"Enter A valid Key\")\n",
    "\n"
   ]
  },
  {
   "cell_type": "code",
   "execution_count": null,
   "id": "84034904",
   "metadata": {},
   "outputs": [],
   "source": []
  },
  {
   "cell_type": "code",
   "execution_count": null,
   "id": "0f188969",
   "metadata": {},
   "outputs": [],
   "source": []
  },
  {
   "cell_type": "code",
   "execution_count": null,
   "id": "41e75977",
   "metadata": {},
   "outputs": [],
   "source": []
  }
 ],
 "metadata": {
  "kernelspec": {
   "display_name": "Python 3 (ipykernel)",
   "language": "python",
   "name": "python3"
  },
  "language_info": {
   "codemirror_mode": {
    "name": "ipython",
    "version": 3
   },
   "file_extension": ".py",
   "mimetype": "text/x-python",
   "name": "python",
   "nbconvert_exporter": "python",
   "pygments_lexer": "ipython3",
   "version": "3.11.4"
  }
 },
 "nbformat": 4,
 "nbformat_minor": 5
}
